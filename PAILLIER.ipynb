{
  "nbformat": 4,
  "nbformat_minor": 0,
  "metadata": {
    "colab": {
      "name": "PAILLIER.ipynb",
      "provenance": [],
      "authorship_tag": "ABX9TyN3OxPw/GmPH3Xotl5In82J",
      "include_colab_link": true
    },
    "kernelspec": {
      "name": "python3",
      "display_name": "Python 3"
    }
  },
  "cells": [
    {
      "cell_type": "markdown",
      "metadata": {
        "id": "view-in-github",
        "colab_type": "text"
      },
      "source": [
        "<a href=\"https://colab.research.google.com/github/somiljain7/Paillier_cryptosystem/blob/master/PAILLIER.ipynb\" target=\"_parent\"><img src=\"https://colab.research.google.com/assets/colab-badge.svg\" alt=\"Open In Colab\"/></a>"
      ]
    },
    {
      "cell_type": "code",
      "metadata": {
        "id": "jkt-aL1kTHtJ",
        "colab_type": "code",
        "colab": {
          "base_uri": "https://localhost:8080/",
          "height": 74
        },
        "outputId": "dd02b258-1c55-4ea9-f012-698c816850af"
      },
      "source": [
        ""
      ],
      "execution_count": 2,
      "outputs": [
        {
          "output_type": "stream",
          "text": [
            "\u001b[31mERROR: Could not find a version that satisfies the requirement primes (from versions: none)\u001b[0m\n",
            "\u001b[31mERROR: No matching distribution found for primes\u001b[0m\n"
          ],
          "name": "stdout"
        }
      ]
    },
    {
      "cell_type": "code",
      "metadata": {
        "id": "zk2fXMfuRBCb",
        "colab_type": "code",
        "colab": {
          "base_uri": "https://localhost:8080/",
          "height": 433
        },
        "outputId": "081172d6-c452-45dc-8b24-0c05892e1a48"
      },
      "source": [
        "import math\n",
        "import primes\n",
        "\n",
        "\n",
        "\n",
        "\n",
        "\n",
        "\n",
        "\n",
        "\n",
        "\n",
        "\n",
        "\n"
      ],
      "execution_count": 4,
      "outputs": [
        {
          "output_type": "error",
          "ename": "ModuleNotFoundError",
          "evalue": "ignored",
          "traceback": [
            "\u001b[0;31m---------------------------------------------------------------------------\u001b[0m",
            "\u001b[0;31mModuleNotFoundError\u001b[0m                       Traceback (most recent call last)",
            "\u001b[0;32m<ipython-input-4-78dcc3761cb6>\u001b[0m in \u001b[0;36m<module>\u001b[0;34m()\u001b[0m\n\u001b[1;32m      1\u001b[0m \u001b[0;32mimport\u001b[0m \u001b[0mmath\u001b[0m\u001b[0;34m\u001b[0m\u001b[0;34m\u001b[0m\u001b[0m\n\u001b[0;32m----> 2\u001b[0;31m \u001b[0;32mimport\u001b[0m \u001b[0mprimes\u001b[0m\u001b[0;34m\u001b[0m\u001b[0;34m\u001b[0m\u001b[0m\n\u001b[0m\u001b[1;32m      3\u001b[0m \u001b[0;34m\u001b[0m\u001b[0m\n\u001b[1;32m      4\u001b[0m \u001b[0;34m\u001b[0m\u001b[0m\n\u001b[1;32m      5\u001b[0m \u001b[0;34m\u001b[0m\u001b[0m\n",
            "\u001b[0;31mModuleNotFoundError\u001b[0m: No module named 'primes'",
            "",
            "\u001b[0;31m---------------------------------------------------------------------------\u001b[0;32m\nNOTE: If your import is failing due to a missing package, you can\nmanually install dependencies using either !pip or !apt.\n\nTo view examples of installing some common dependencies, click the\n\"Open Examples\" button below.\n\u001b[0;31m---------------------------------------------------------------------------\u001b[0m\n"
          ]
        }
      ]
    },
    {
      "cell_type": "code",
      "metadata": {
        "id": "q2EB9mgmSsFJ",
        "colab_type": "code",
        "colab": {}
      },
      "source": [
        "def invmod(a, p, maxiter=1000000):\n",
        "    \"\"\"The multiplicitive inverse of a in the integers modulo p:\n",
        "         a * b == 1 mod p\n",
        "       Returns b.\n",
        "       (http://code.activestate.com/recipes/576737-inverse-modulo-p/)\"\"\"\n",
        "    if a == 0:\n",
        "        raise ValueError('0 has no inverse mod %d' % p)\n",
        "    r = a\n",
        "    d = 1\n",
        "    for i in xrange(min(p, maxiter)):\n",
        "        d = ((p // r + 1) * d) % p\n",
        "        r = (d * a) % p\n",
        "        if r == 1:\n",
        "            break\n",
        "    else:\n",
        "        raise ValueError('%d has no inverse mod %d' % (a, p))\n",
        "    return d"
      ],
      "execution_count": null,
      "outputs": []
    },
    {
      "cell_type": "code",
      "metadata": {
        "id": "iSq-knpWSsH6",
        "colab_type": "code",
        "colab": {}
      },
      "source": [
        "def modpow(base, exponent, modulus):\n",
        "    \"\"\"Modular exponent:\n",
        "         c = b ^ e mod m\n",
        "       Returns c.\n",
        "       (http://www.programmish.com/?p=34)\"\"\"\n",
        "    result = 1\n",
        "    while exponent > 0:\n",
        "        if exponent & 1 == 1:\n",
        "            result = (result * base) % modulus\n",
        "        exponent = exponent >> 1\n",
        "        base = (base * base) % modulus\n",
        "    return result\n"
      ],
      "execution_count": null,
      "outputs": []
    },
    {
      "cell_type": "code",
      "metadata": {
        "id": "r_X9T92ISsKt",
        "colab_type": "code",
        "colab": {}
      },
      "source": [
        "class PrivateKey(object):\n",
        "\n",
        "    def __init__(self, p, q, n):\n",
        "        self.l = (p-1) * (q-1)\n",
        "        self.m = invmod(self.l, n)\n",
        "\n",
        "    def __repr__(self):\n",
        "        return '<PrivateKey: %s %s>' % (self.l, self.m)\n"
      ],
      "execution_count": null,
      "outputs": []
    },
    {
      "cell_type": "code",
      "metadata": {
        "id": "yj1YVqA9SsNr",
        "colab_type": "code",
        "colab": {}
      },
      "source": [
        "class PublicKey(object):\n",
        "\n",
        "    @classmethod\n",
        "    def from_n(cls, n):\n",
        "        return cls(n)\n",
        "\n",
        "    def __init__(self, n):\n",
        "        self.n = n\n",
        "        self.n_sq = n * n\n",
        "        self.g = n + 1\n",
        "\n",
        "    def __repr__(self):\n",
        "        return '<PublicKey: %s>' % self.n"
      ],
      "execution_count": null,
      "outputs": []
    },
    {
      "cell_type": "code",
      "metadata": {
        "id": "9C51563iSsQY",
        "colab_type": "code",
        "colab": {}
      },
      "source": [
        "def generate_keypair(bits):\n",
        "    p = primes.generate_prime(bits / 2)\n",
        "    q = primes.generate_prime(bits / 2)\n",
        "    n = p * q\n",
        "    return PrivateKey(p, q, n), PublicKey(n)\n"
      ],
      "execution_count": null,
      "outputs": []
    },
    {
      "cell_type": "code",
      "metadata": {
        "id": "dMmsFC5iSsS-",
        "colab_type": "code",
        "colab": {}
      },
      "source": [
        "def encrypt(pub, plain):\n",
        "    while True:\n",
        "        r = primes.generate_prime(long(round(math.log(pub.n, 2))))\n",
        "        if r > 0 and r < pub.n:\n",
        "            break\n",
        "    x = pow(r, pub.n, pub.n_sq)\n",
        "    cipher = (pow(pub.g, plain, pub.n_sq) * x) % pub.n_sq\n",
        "    return cipher\n"
      ],
      "execution_count": null,
      "outputs": []
    },
    {
      "cell_type": "code",
      "metadata": {
        "id": "iYtNDnmfSsVr",
        "colab_type": "code",
        "colab": {}
      },
      "source": [
        "\n",
        "\n",
        "def e_add(pub, a, b):\n",
        "    \"\"\"Add one encrypted integer to another\"\"\"\n",
        "    return a * b % pub.n_sq"
      ],
      "execution_count": null,
      "outputs": []
    },
    {
      "cell_type": "code",
      "metadata": {
        "id": "e4K5e-EBSsYY",
        "colab_type": "code",
        "colab": {}
      },
      "source": [
        "\n",
        "def e_add_const(pub, a, n):\n",
        "    \"\"\"Add constant n to an encrypted integer\"\"\"\n",
        "    return a * modpow(pub.g, n, pub.n_sq) % pub.n_sq"
      ],
      "execution_count": null,
      "outputs": []
    },
    {
      "cell_type": "code",
      "metadata": {
        "id": "WeKNJ6HjSsbC",
        "colab_type": "code",
        "colab": {}
      },
      "source": [
        "def e_mul_const(pub, a, n):\n",
        "    \"\"\"Multiplies an ancrypted integer by a constant\"\"\"\n",
        "    return modpow(a, n, pub.n_sq)\n"
      ],
      "execution_count": null,
      "outputs": []
    },
    {
      "cell_type": "code",
      "metadata": {
        "id": "fK-9aBJgSsdo",
        "colab_type": "code",
        "colab": {}
      },
      "source": [
        "def decrypt(priv, pub, cipher):\n",
        "    x = pow(cipher, priv.l, pub.n_sq) - 1\n",
        "    plain = ((x // pub.n) * priv.m) % pub.n\n",
        "    return plain"
      ],
      "execution_count": null,
      "outputs": []
    }
  ]
}